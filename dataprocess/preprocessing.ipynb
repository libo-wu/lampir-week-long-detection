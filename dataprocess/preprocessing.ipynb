{
 "cells": [
  {
   "cell_type": "code",
   "execution_count": 1,
   "metadata": {
    "collapsed": true
   },
   "outputs": [],
   "source": [
    "# import modules\n",
    "import numpy as np\n",
    "import matplotlib.pyplot as plt\n",
    "import os\n",
    "import glob\n",
    "import re"
   ]
  },
  {
   "cell_type": "code",
   "execution_count": 2,
   "metadata": {
    "collapsed": true
   },
   "outputs": [],
   "source": [
    "# create namelist from filelist, convert '2018-03-08 17-57-38.csv' to '2018_03_08_17_57_38'\n",
    "def create_namelist(filelist):\n",
    "    namelist=[]\n",
    "    for filename in filelist:\n",
    "        name=re.split('\\D',filename)\n",
    "        if(name[0]=='2018' or name[0]==2019):   #this is trival decide strategy\n",
    "            newname=name[0]+'_'+name[1]+'_'+name[2]+'_'+name[3]+'_'+name[4]+'_'+name[5]\n",
    "        else:\n",
    "            continue\n",
    "        namelist.append(newname)\n",
    "    \n",
    "    return namelist"
   ]
  },
  {
   "cell_type": "code",
   "execution_count": 4,
   "metadata": {},
   "outputs": [],
   "source": [
    "#using re to split each line, get value and time\n",
    "def getdata(filename):\n",
    "    lines=f.readlines()\n",
    "    data=np.zeros((len(lines),9),dtype=int)\n",
    "    row_num=0\n",
    "    for line in lines:\n",
    "        string=line\n",
    "        temp=re.split('\\'',string)\n",
    "        temp1=re.match(r'(\\d+)', temp[1])\n",
    "        time=re.match(r'(\\d+)-(\\d+)-(\\d+) (\\d+):(\\d+):(\\d+)\\.(\\d+)',temp[2])\n",
    "        value=np.reshape(temp1.group(0),(1,1))\n",
    "        time=np.reshape(time.groups(),(1,7))\n",
    "        value=value.astype(int)\n",
    "        time=time.astype(int)\n",
    "        newdata=np.hstack((row_num, value[0],time[0]))\n",
    "        # print(newdata)\n",
    "        data[row_num,:]=newdata\n",
    "        row_num=row_num+1\n",
    "    return data"
   ]
  },
  {
   "cell_type": "code",
   "execution_count": 12,
   "metadata": {},
   "outputs": [
    {
     "name": "stdout",
     "output_type": "stream",
     "text": [
      "['2018_03_08_17_57_38', '2018_03_08_17_58_39', '2018_03_08_17_59_40', '2018_03_08_18_00_41', '2018_03_08_18_01_42', '2018_03_08_18_02_43', '2018_03_08_18_03_44', '2018_03_08_18_04_45', '2018_03_08_18_05_46', '2018_03_08_18_06_47', '2018_03_08_18_07_48', '2018_03_08_18_08_49']\n",
      "length of the signal files is 12\n"
     ]
    },
    {
     "data": {
      "text/plain": [
       "[array([[     0,    526,   2018, ...,     57,     40, 330576],\n",
       "        [     1,    526,   2018, ...,     57,     40, 343053],\n",
       "        [     2,    527,   2018, ...,     57,     40, 355620],\n",
       "        ..., \n",
       "        [  4798,    470,   2018, ...,     58,     39, 410180],\n",
       "        [  4799,    471,   2018, ...,     58,     39, 422965],\n",
       "        [  4800,    470,   2018, ...,     58,     39, 435428]]),\n",
       " array([[     0,    473,   2018, ...,     58,     39, 447092],\n",
       "        [     1,    474,   2018, ...,     58,     39, 459548],\n",
       "        [     2,    473,   2018, ...,     58,     39, 472292],\n",
       "        ..., \n",
       "        [  4952,    651,   2018, ...,     59,     40, 418305],\n",
       "        [  4953,    659,   2018, ...,     59,     40, 430873],\n",
       "        [  4954,    666,   2018, ...,     59,     40, 443490]]),\n",
       " array([[     0,    675,   2018, ...,     59,     40, 455063],\n",
       "        [     1,    684,   2018, ...,     59,     40, 467521],\n",
       "        [     2,    688,   2018, ...,     59,     40, 480287],\n",
       "        ..., \n",
       "        [  4952,    528,   2018, ...,      0,     41, 426068],\n",
       "        [  4953,    528,   2018, ...,      0,     41, 438781],\n",
       "        [  4954,    529,   2018, ...,      0,     41, 451331]]),\n",
       " array([[     0,    529,   2018, ...,      0,     41, 463258],\n",
       "        [     1,    530,   2018, ...,      0,     41, 475437],\n",
       "        [     2,    530,   2018, ...,      0,     41, 488282],\n",
       "        ..., \n",
       "        [  4951,    539,   2018, ...,      1,     42, 435141],\n",
       "        [  4952,    539,   2018, ...,      1,     42, 446534],\n",
       "        [  4953,    538,   2018, ...,      1,     42, 459164]]),\n",
       " array([[     0,    538,   2018, ...,      1,     42, 472002],\n",
       "        [     1,    536,   2018, ...,      1,     42, 484405],\n",
       "        [     2,    536,   2018, ...,      1,     42, 495997],\n",
       "        ..., \n",
       "        [  4952,    517,   2018, ...,      2,     43, 443415],\n",
       "        [  4953,    517,   2018, ...,      2,     43, 455860],\n",
       "        [  4954,    520,   2018, ...,      2,     43, 467222]]),\n",
       " array([[     0,    520,   2018, ...,      2,     43, 480406],\n",
       "        [     1,    522,   2018, ...,      2,     43, 492487],\n",
       "        [     2,    523,   2018, ...,      2,     43, 505438],\n",
       "        ..., \n",
       "        [  4951,    524,   2018, ...,      3,     44, 452080],\n",
       "        [  4952,    525,   2018, ...,      3,     44, 464789],\n",
       "        [  4953,    523,   2018, ...,      3,     44, 476120]]),\n",
       " array([[     0,    525,   2018, ...,      3,     44, 488887],\n",
       "        [     1,    525,   2018, ...,      3,     44, 501466],\n",
       "        [     2,    524,   2018, ...,      3,     44, 512948],\n",
       "        ..., \n",
       "        [  4952,    534,   2018, ...,      4,     45, 459939],\n",
       "        [  4953,    535,   2018, ...,      4,     45, 472498],\n",
       "        [  4954,    534,   2018, ...,      4,     45, 485121]]),\n",
       " array([[     0,    535,   2018, ...,      4,     45, 497935],\n",
       "        [     1,    535,   2018, ...,      4,     45, 509132],\n",
       "        [     2,    533,   2018, ...,      4,     45, 522012],\n",
       "        ..., \n",
       "        [  4952,    526,   2018, ...,      5,     46, 469293],\n",
       "        [  4953,    526,   2018, ...,      5,     46, 481974],\n",
       "        [  4954,    525,   2018, ...,      5,     46, 493300]]),\n",
       " array([[     0,    525,   2018, ...,      5,     46, 506276],\n",
       "        [     1,    526,   2018, ...,      5,     46, 518704],\n",
       "        [     2,    530,   2018, ...,      5,     46, 531759],\n",
       "        ..., \n",
       "        [  4951,    527,   2018, ...,      6,     47, 478269],\n",
       "        [  4952,    526,   2018, ...,      6,     47, 489638],\n",
       "        [  4953,    524,   2018, ...,      6,     47, 502325]]),\n",
       " array([[     0,    523,   2018, ...,      6,     47, 515114],\n",
       "        [     1,    524,   2018, ...,      6,     47, 527759],\n",
       "        [     2,    524,   2018, ...,      6,     47, 539356],\n",
       "        ..., \n",
       "        [  4952,    532,   2018, ...,      7,     48, 486594],\n",
       "        [  4953,    532,   2018, ...,      7,     48, 499158],\n",
       "        [  4954,    531,   2018, ...,      7,     48, 511689]]),\n",
       " array([[     0,    532,   2018, ...,      7,     48, 523260],\n",
       "        [     1,    529,   2018, ...,      7,     48, 536031],\n",
       "        [     2,    530,   2018, ...,      7,     48, 549170],\n",
       "        ..., \n",
       "        [  4951,    526,   2018, ...,      8,     49, 495923],\n",
       "        [  4952,    526,   2018, ...,      8,     49, 508618],\n",
       "        [  4953,    527,   2018, ...,      8,     49, 519967]]),\n",
       " array([[     0,    526,   2018, ...,      8,     49, 535947],\n",
       "        [     1,    527,   2018, ...,      8,     49, 545327],\n",
       "        [     2,    526,   2018, ...,      8,     49, 557174],\n",
       "        ..., \n",
       "        [  4952,    524,   2018, ...,      9,     50, 504113],\n",
       "        [  4953,    527,   2018, ...,      9,     50, 516804],\n",
       "        [  4954,    528,   2018, ...,      9,     50, 529451]])]"
      ]
     },
     "execution_count": 12,
     "metadata": {},
     "output_type": "execute_result"
    }
   ],
   "source": [
    "datadir='/home/libowu/NES/LAMPIR/'\n",
    "filelist=os.listdir(datadir)\n",
    "filelist.sort()\n",
    "namelist=create_namelist(filelist)\n",
    "print(namelist)\n",
    "print('length of the signal files is %d' % len(namelist))\n",
    "\n",
    "\n",
    "datalist=[]\n",
    "for i in range(0,len(namelist)):\n",
    "    f=open(datadir+filelist[i])\n",
    "    globals()['data_%s' % namelist[i]] = getdata(f)\n",
    "    datalist.append(globals()['data_%s' % namelist[i]])\n",
    "    f.close()\n",
    "\n",
    "datalist"
   ]
  },
  {
   "cell_type": "code",
   "execution_count": null,
   "metadata": {
    "collapsed": true
   },
   "outputs": [],
   "source": []
  }
 ],
 "metadata": {
  "kernelspec": {
   "display_name": "Python 3",
   "language": "python",
   "name": "python3"
  },
  "language_info": {
   "codemirror_mode": {
    "name": "ipython",
    "version": 3
   },
   "file_extension": ".py",
   "mimetype": "text/x-python",
   "name": "python",
   "nbconvert_exporter": "python",
   "pygments_lexer": "ipython3",
   "version": "3.6.3"
  }
 },
 "nbformat": 4,
 "nbformat_minor": 2
}
